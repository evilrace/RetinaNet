{
 "cells": [
  {
   "cell_type": "code",
   "execution_count": 9,
   "metadata": {},
   "outputs": [],
   "source": [
    "import tensorflow as tf\n",
    "from model import label_encoder\n",
    "from utils import data_preprocess\n",
    "\n",
    "data_dir = r'F:\\dataset\\kitti\\data_object_image_2\\training'\n"
   ]
  },
  {
   "cell_type": "code",
   "execution_count": 14,
   "metadata": {},
   "outputs": [],
   "source": [
    "# get data list\n",
    "img_list = tf.io.gfile.glob(f'{data_dir}\\image_2\\*.png')\n",
    "label_list = tf.io.gfile.glob(f'{data_dir}\\label_2\\*.txt')\n",
    "img_list.sort()\n",
    "label_list.sort()\n"
   ]
  },
  {
   "cell_type": "code",
   "execution_count": null,
   "metadata": {},
   "outputs": [],
   "source": [
    "img, labels = data_preprocess.prepare_data(img_list[0],label_list[0])\n"
   ]
  }
 ],
 "metadata": {
  "kernelspec": {
   "display_name": "Python 3.9.7 64-bit",
   "language": "python",
   "name": "python3"
  },
  "language_info": {
   "codemirror_mode": {
    "name": "ipython",
    "version": 3
   },
   "file_extension": ".py",
   "mimetype": "text/x-python",
   "name": "python",
   "nbconvert_exporter": "python",
   "pygments_lexer": "ipython3",
   "version": "3.9.7"
  },
  "orig_nbformat": 4,
  "vscode": {
   "interpreter": {
    "hash": "f5f227904729d2e34638b12d6189826106a201c215150695c35e0f334bf03903"
   }
  }
 },
 "nbformat": 4,
 "nbformat_minor": 2
}
